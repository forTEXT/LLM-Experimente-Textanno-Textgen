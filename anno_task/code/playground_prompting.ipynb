{
 "cells": [
  {
   "cell_type": "markdown",
   "metadata": {},
   "source": [
    "## Playground: Jupyter Notebook for Prompt-Testing"
   ]
  },
  {
   "cell_type": "code",
   "execution_count": 1,
   "metadata": {},
   "outputs": [],
   "source": [
    "# Example: reuse your existing OpenAI setup\n",
    "from openai import OpenAI\n",
    "\n",
    "# Point to the local server\n",
    "client = OpenAI(base_url=\"http://localhost:1234/v1\", api_key=\"lm-studio\")\n",
    "\n",
    "modelname= \"lmstudio-community/Meta-Llama-3.1-8B-Instruct-GGUF\""
   ]
  },
  {
   "cell_type": "markdown",
   "metadata": {},
   "source": [
    "## Import Guidelines and text to annotate"
   ]
  },
  {
   "cell_type": "code",
   "execution_count": null,
   "metadata": {},
   "outputs": [],
   "source": [
    "import os\n",
    "\n",
    "file = open(\"pathto/guidelines/guideline_order.md\", \"r\")\n",
    "order_guideline = file.read()\n",
    "\n",
    "file_text = open(\"pathto/heureclea-sourcedocuments/Auch_ich_war_in_Arkadien.txt\", \"r\")\n",
    "testtext = file_text.read()\n",
    "print(len(testtext))\n",
    "print(testtext[39485:])\n",
    "\n",
    "input_text = testtext[:10000]\n",
    "print(len(input_text))\n",
    "#print(input_text[39510])\n",
    "\n",
    "\n",
    "with open(\"pathto/heureclea-sourcedocuments/Auch_ich_war_in_Arkadien.txt\",\"r\") as f:\n",
    "    outputtext = f.read().replace(\"\\\\n\",\"n\")\n",
    "    print(len(outputtext))\n"
   ]
  },
  {
   "cell_type": "markdown",
   "metadata": {},
   "source": [
    "## Example output\n"
   ]
  },
  {
   "cell_type": "code",
   "execution_count": 3,
   "metadata": {},
   "outputs": [],
   "source": [
    "# example_output = \"\"\" {\n",
    "#     \"anno_id\": \"dd7f6706-eefd-45ef-a119-b9fec2d4601b\",\n",
    "#     \"tag_id\": \"757bf8b0-3a71-44f8-8c75-cde8657d4eb0\",\n",
    "#     \"tag_name\": \"analepse\",\n",
    "#     \"start\": 34605,\n",
    "#     \"end\": 34752,\n",
    "#     \"text\": \"Den Faulenzern auf dem Platze, die sich hier eigentlich durch Selbstdenken hatten empanzipieren sollen, war inzwischen auch die Zeit lang geworden.\"\n",
    "#   },\n",
    "#  \"\"\"\n",
    "\n",
    "example_output = \"\"\"{\n",
    "    \"tag_name\": \"analepse\",\n",
    "    \"start\": 34605,\n",
    "    \"end\": 34752,\n",
    "    \"text\": \"Den Faulenzern auf dem Platze, die sich hier eigentlich durch Selbstdenken hatten empanzipieren sollen, war inzwischen auch die Zeit lang geworden.\"\n",
    "  }\"\"\"\n",
    " \n",
    "\n",
    "example_text = testtext[34505:35496]\n",
    "#  {\n",
    "#     \"anno_id\": \"b132d7f6-0513-41ab-9882-81c2e03b2903\",\n",
    "#     \"tag_id\": \"757bf8b0-3a71-44f8-8c75-cde8657d4eb0\",\n",
    "#     \"tag_name\": \"analepse\",\n",
    "#     \"start\": 35497,\n",
    "#     \"end\": 35540,\n",
    "#     \"text\": \"War nun die Zukunft vorhin schon im Wackeln\"\n",
    "#   }"
   ]
  },
  {
   "cell_type": "code",
   "execution_count": null,
   "metadata": {},
   "outputs": [],
   "source": [
    "print(len(example_text))\n",
    "print(example_text)"
   ]
  },
  {
   "cell_type": "markdown",
   "metadata": {},
   "source": [
    "## Example Prompt"
   ]
  },
  {
   "cell_type": "code",
   "execution_count": null,
   "metadata": {},
   "outputs": [],
   "source": [
    "completion = client.chat.completions.create(\n",
    "  model=modelname,\n",
    "  messages=[\n",
    "    {\"role\": \"system\", \"content\": \"You are a an annotator in our annotation project. In order to annotate you follow annotation guidelines.\"},\n",
    "    {\"role\": \"user\", \"content\": \"Read those Guidelines carefully: \"+order_guideline+\". Based on the Guidelines now Annotate the following text. Return your annotations in python dictionary format, using the keys 'tag_name', 'start', 'end' and 'text', where 'tag_name' refers to the tag you have chosen for the text passage, ‚start‘ is an int that refers to the character index where your annotation starts, 'end' refers to an character index where your annotation ends and 'text' is a string that contains the annotated text passage. So for each annotation thus you'll create a dictionary. If you annotate more than one text passage based on the guidelines you'll return a list of dictonaries. This is the text that you shall annotate based on the guidelines provided: \"\n",
    "     +testtext +\"\\n\\n This is one example of one annotation in dictionary output format: \"+example_output}\n",
    "  ],\n",
    "  temperature=0.2,\n",
    ")\n",
    "\n",
    "print(completion.choices[0].message)"
   ]
  }
 ],
 "metadata": {
  "kernelspec": {
   "display_name": "Python 3",
   "language": "python",
   "name": "python3"
  },
  "language_info": {
   "codemirror_mode": {
    "name": "ipython",
    "version": 3
   },
   "file_extension": ".py",
   "mimetype": "text/x-python",
   "name": "python",
   "nbconvert_exporter": "python",
   "pygments_lexer": "ipython3",
   "version": "3.11.10"
  }
 },
 "nbformat": 4,
 "nbformat_minor": 2
}
